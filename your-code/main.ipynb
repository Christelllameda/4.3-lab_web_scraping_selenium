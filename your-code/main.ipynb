{
 "cells": [
  {
   "cell_type": "markdown",
   "metadata": {},
   "source": [
    "# Web Scraping Lab\n",
    "\n",
    "You will find in this notebook some scrapy exercises to practise your scraping skills.\n",
    "\n",
    "**Tips:**\n",
    "\n",
    "- Check the response status code for each request to ensure you have obtained the intended contennt.\n",
    "- Print the response text in each request to understand the kind of info you are getting and its format.\n",
    "- Check for patterns in the response text to extract the data/info requested in each question.\n",
    "- Visit each url and take a look at its source through Chrome DevTools. You'll need to identify the html tags, special class names etc. used for the html content you are expected to extract."
   ]
  },
  {
   "cell_type": "markdown",
   "metadata": {},
   "source": [
    "- [Selenium Doc](https://www.selenium.dev/documentation/)\n",
    "- [Requests library](http://docs.python-requests.org/en/master/#the-user-guide) documentation \n",
    "- [Urllib](https://docs.python.org/3/library/urllib.html#module-urllib)\n",
    "- [re lib](https://docs.python.org/3/library/re.html)\n",
    "- [lxml lib](https://lxml.de/)\n",
    "- [Scrapy](https://scrapy.org/)\n",
    "- [List of HTTP status codes](https://en.wikipedia.org/wiki/List_of_HTTP_status_codes)\n",
    "- [HTML basics](http://www.simplehtmlguide.com/cheatsheet.php)\n",
    "- [CSS basics](https://www.cssbasics.com/#page_start)"
   ]
  },
  {
   "cell_type": "markdown",
   "metadata": {},
   "source": [
    "#### Below are the libraries and modules you may need. `Selenium` and `pandas` are imported for you."
   ]
  },
  {
   "cell_type": "code",
   "execution_count": 1,
   "metadata": {},
   "outputs": [],
   "source": [
    "import pandas as pd\n",
    "from selenium.webdriver.chrome.options import Options\n",
    "from webdriver_manager.chrome import ChromeDriverManager\n",
    "from selenium import webdriver\n",
    "from selenium.webdriver.common.by import By"
   ]
  },
  {
   "cell_type": "markdown",
   "metadata": {},
   "source": [
    "#### Enable the options you may need. In the next cell you have an example of them but you can choose to use them or not."
   ]
  },
  {
   "cell_type": "code",
   "execution_count": 2,
   "metadata": {},
   "outputs": [],
   "source": [
    "#driver configuration\n",
    "opciones=Options()\n",
    "opciones.add_experimental_option('excludeSwitches', ['enable-automation'])\n",
    "opciones.add_experimental_option('useAutomationExtension', False)\n",
    "opciones.headless=False    # si True, no aperece la ventana (headless=no visible)\n",
    "opciones.add_argument('--start-maximized')         # comienza maximizado\n",
    "#opciones.add_argument('user-data-dir=selenium')    # mantiene las cookies\n",
    "#opciones.add_extension('driver_folder/adblock.crx')       # adblocker\n",
    "opciones.add_argument('--incognito')"
   ]
  },
  {
   "cell_type": "code",
   "execution_count": 3,
   "metadata": {},
   "outputs": [],
   "source": [
    "driver = webdriver.Chrome(options = opciones)"
   ]
  },
  {
   "cell_type": "markdown",
   "metadata": {},
   "source": [
    "#### Download, parse, and print the content from the Trending Developers page from GitHub:"
   ]
  },
  {
   "cell_type": "code",
   "execution_count": null,
   "metadata": {},
   "outputs": [],
   "source": [
    "# This is the url you will scrape in this exercise\n",
    "url = 'https://github.com/trending/developers'"
   ]
  },
  {
   "cell_type": "code",
   "execution_count": null,
   "metadata": {},
   "outputs": [],
   "source": [
    "driver.get(url)\n",
    "x_path = driver.find_elements(By.CSS_SELECTOR,\"div.d-sm-flex.flex-auto > div.col-sm-8.d-md-flex > div:nth-child(1)\")\n",
    "\n",
    "[e.text.split(\"\\n\") for e in x_path]"
   ]
  },
  {
   "cell_type": "markdown",
   "metadata": {},
   "source": [
    "#### Display the names of the trending developers retrieved in the previous step.\n",
    "\n",
    "Your output should be a Python list of developer names. Each name should not contain any html tag.\n",
    "\n",
    "**Instructions:**\n",
    "\n",
    "1. Find out the html tag and class names used for the developer names.\n",
    "\n",
    "1. Use string manipulation techniques to replace whitespaces and linebreaks (i.e. `\\n`) in the *text* of each html element. Use a list to store the clean names.\n",
    "\n",
    "1. Print the list of names.\n",
    "\n",
    "Your output should look like below:\n",
    "\n",
    "```\n",
    "['trimstray (@trimstray)',\n",
    " 'joewalnes (JoeWalnes)',\n",
    " 'charlax (Charles-AxelDein)',\n",
    " 'ForrestKnight (ForrestKnight)',\n",
    " 'revery-ui (revery-ui)',\n",
    " 'alibaba (Alibaba)',\n",
    " 'Microsoft (Microsoft)',\n",
    " 'github (GitHub)',\n",
    " 'facebook (Facebook)',\n",
    " 'boazsegev (Bo)',\n",
    " 'google (Google)',\n",
    " 'cloudfetch',\n",
    " 'sindresorhus (SindreSorhus)',\n",
    " 'tensorflow',\n",
    " 'apache (TheApacheSoftwareFoundation)',\n",
    " 'DevonCrawford (DevonCrawford)',\n",
    " 'ARMmbed (ArmMbed)',\n",
    " 'vuejs (vuejs)',\n",
    " 'fastai (fast.ai)',\n",
    " 'QiShaoXuan (Qi)',\n",
    " 'joelparkerhenderson (JoelParkerHenderson)',\n",
    " 'torvalds (LinusTorvalds)',\n",
    " 'CyC2018',\n",
    " 'komeiji-satori (神楽坂覚々)',\n",
    " 'script-8']\n",
    " ```"
   ]
  },
  {
   "cell_type": "markdown",
   "metadata": {},
   "source": [
    "#### Display the trending Python repositories in GitHub\n",
    "\n",
    "The steps to solve this problem is similar to the previous one except that you need to find out the repository names instead of developer names."
   ]
  },
  {
   "cell_type": "code",
   "execution_count": null,
   "metadata": {},
   "outputs": [],
   "source": [
    "# This is the url you will scrape in this exercise\n",
    "url = 'https://github.com/trending/python?since=daily'"
   ]
  },
  {
   "cell_type": "code",
   "execution_count": null,
   "metadata": {},
   "outputs": [],
   "source": [
    "driver.get(url)\n",
    "x_path = driver.find_elements(By.CSS_SELECTOR, \"h2 > a\")\n",
    "\n",
    "[e.text for e in x_path]"
   ]
  },
  {
   "cell_type": "markdown",
   "metadata": {},
   "source": [
    "#### Display all the image links from Walt Disney wikipedia page"
   ]
  },
  {
   "cell_type": "code",
   "execution_count": null,
   "metadata": {},
   "outputs": [],
   "source": [
    "# This is the url you will scrape in this exercise\n",
    "url = 'https://en.wikipedia.org/wiki/Walt_Disney'"
   ]
  },
  {
   "cell_type": "code",
   "execution_count": null,
   "metadata": {},
   "outputs": [],
   "source": [
    "driver.get(url)\n",
    "x_path = driver.find_elements(By.TAG_NAME,'img')\n",
    "\n",
    "lista = [e.get_attribute('src') for e in x_path] \n",
    "lista"
   ]
  },
  {
   "cell_type": "markdown",
   "metadata": {},
   "source": [
    "### Retrieve an arbitary Wikipedia page of \"Python\" and create a list of links on that page"
   ]
  },
  {
   "cell_type": "code",
   "execution_count": null,
   "metadata": {},
   "outputs": [],
   "source": [
    "# This is the url you will scrape in this exercise\n",
    "url ='https://en.wikipedia.org/wiki/Python' "
   ]
  },
  {
   "cell_type": "code",
   "execution_count": null,
   "metadata": {},
   "outputs": [],
   "source": [
    "driver.get(url)\n",
    "\n",
    "links = driver.find_elements(By.TAG_NAME, \"a\")\n",
    "links_list = [link.get_attribute(\"href\") for link in links if link.get_attribute(\"href\")]\n",
    "links_list"
   ]
  },
  {
   "cell_type": "markdown",
   "metadata": {},
   "source": [
    "### Number of Titles that have changed in the United States Code since its last release point "
   ]
  },
  {
   "cell_type": "code",
   "execution_count": null,
   "metadata": {},
   "outputs": [],
   "source": [
    "# This is the url you will scrape in this exercise\n",
    "url = 'http://uscode.house.gov/download/download.shtml'"
   ]
  },
  {
   "cell_type": "code",
   "execution_count": null,
   "metadata": {},
   "outputs": [],
   "source": [
    "driver.get(url)\n",
    "\n",
    "x_path = driver.find_elements(By.CLASS_NAME, 'usctitle')\n",
    "\n",
    "x =[e.text for e in x_path][2:]\n",
    "x"
   ]
  },
  {
   "cell_type": "markdown",
   "metadata": {},
   "source": [
    "#### A Python list with the top ten FBI's Most Wanted names "
   ]
  },
  {
   "cell_type": "code",
   "execution_count": null,
   "metadata": {},
   "outputs": [],
   "source": [
    "# This is the url you will scrape in this exercise\n",
    "url = 'https://www.fbi.gov/wanted/topten'"
   ]
  },
  {
   "cell_type": "code",
   "execution_count": null,
   "metadata": {},
   "outputs": [],
   "source": [
    "driver.get(url)\n",
    "x_path = driver.find_elements(By.CSS_SELECTOR, \"h3 > a\")\n",
    "\n",
    "nombres_mas_buscados = []\n",
    "\n",
    "for element in x_path:\n",
    "    nombres_mas_buscados.append(element.text)\n",
    "    \n",
    "nombres_mas_buscados"
   ]
  },
  {
   "cell_type": "markdown",
   "metadata": {},
   "source": [
    "####  20 latest earthquakes info (date, time, latitude, longitude and region name) by the EMSC as a pandas dataframe"
   ]
  },
  {
   "cell_type": "code",
   "execution_count": 4,
   "metadata": {},
   "outputs": [],
   "source": [
    "# This is the url you will scrape in this exercise\n",
    "url = 'https://www.emsc-csem.org/Earthquake/'"
   ]
  },
  {
   "cell_type": "code",
   "execution_count": 5,
   "metadata": {},
   "outputs": [],
   "source": [
    "driver.get(url)"
   ]
  },
  {
   "cell_type": "code",
   "execution_count": 6,
   "metadata": {},
   "outputs": [
    {
     "data": {
      "text/plain": [
       "['Date',\n",
       " '&',\n",
       " 'Time',\n",
       " 'UTC',\n",
       " 'Lat.',\n",
       " 'degrees',\n",
       " 'Lon.',\n",
       " 'degrees',\n",
       " 'Depth',\n",
       " 'km',\n",
       " 'Mag.[+]',\n",
       " 'Region']"
      ]
     },
     "execution_count": 6,
     "metadata": {},
     "output_type": "execute_result"
    }
   ],
   "source": [
    "tabla = driver.find_element(By.XPATH, \"/html/body/div[3]/div[6]\")\n",
    "columnas = tabla.find_element(By.TAG_NAME, 'thead').text.split()\n",
    "columnas2 = columnas[2:]\n",
    "columnas2"
   ]
  },
  {
   "cell_type": "code",
   "execution_count": 7,
   "metadata": {},
   "outputs": [
    {
     "data": {
      "text/plain": [
       "'2023-11-01 15:14:13\\n6 min ago\\n36.891 -2.999 13 2.2 STRAIT OF GIBRALTAR\\n2023-11-01 15:03:32\\n17 min ago\\n40.528 -123.568 5 2.4 NORTHERN CALIFORNIA\\n2023-11-01 14:49:46\\n30 min ago\\n59.976 10.946 8 3.0 SOUTHERN NORWAY\\n2023-11-01 14:45:25\\n35 min ago\\n0.140 124.260 75 3.5 MINAHASA, SULAWESI, INDONESIA\\n2023-11-01 14:38:02\\n42 min ago\\n36.839 -3.007 13 1.8 STRAIT OF GIBRALTAR\\n2023-11-01 14:35:25\\n45 min ago\\n13.820 120.520 50 3.6 MINDORO, PHILIPPINES\\n2023-11-01 14:33:41\\n46 min ago\\n37.610 21.810 5 2.5 SOUTHERN GREECE\\n2023-11-01 14:30:21\\n50 min ago\\n19.402 -155.264 4 2.0 ISLAND OF HAWAII, HAWAII\\n2023-11-01 14:29:27\\n51 min ago\\n37.875 36.335 3 2.1 CENTRAL TURKEY\\n2023-11-01 14:26:30\\n54 min ago\\n-24.003 -66.809 218 3.0 JUJUY, ARGENTINA\\n2023-11-01 14:10:58\\n1 hr 09 min ago\\n19.483 -155.489 -0 2.5 ISLAND OF HAWAII, HAWAII\\n2023-11-01 14:09:01\\n1 hr 11 min ago\\n36.796 -3.026 9 2.2 STRAIT OF GIBRALTAR\\n2023-11-01 14:07:48\\n1 hr 12 min ago\\n-8.333 121.545 13 5.1 FLORES REGION, INDONESIA\\n2023-11-01 14:00:40\\n1 hr 19 min ago\\n45.943 13.823 6 1.2 SLOVENIA\\n2023-11-01 13:57:28\\n1 hr 23 min ago\\n37.870 36.359 5 2.7 CENTRAL TURKEY\\n2023-11-01 13:50:15\\n1 hr 30 min ago\\n45.937 10.947 6 1.1 NORTHERN ITALY\\n2023-11-01 13:46:29\\n1 hr 34 min ago\\n39.161 20.542 4 2.0 GREECE\\n2023-11-01 13:44:37\\n1 hr 35 min ago\\n-2.960 128.840 10 2.6 CERAM SEA, INDONESIA\\n2023-11-01 13:43:45\\n1 hr 36 min ago\\n35.760 26.920 33 2.2 CRETE, GREECE\\n2023-11-01 13:27:52\\n1 hr 52 min ago\\n41.439 28.428 3 2.4 WESTERN TURKEY\\n2023-11-01 13:25:48\\n1 hr 54 min ago\\n-2.820 135.470 10 3.8 NEAR N COAST OF PAPUA, INDONESIA\\n2023-11-01 13:22:17\\n1 hr 58 min ago\\n-20.340 -69.000 102 2.9 TARAPACA, CHILE\\n2023-11-01 13:11:43\\n2 hr 08 min ago\\n48.640 155.950 10 4.0 KURIL ISLANDS\\n2023-11-01 12:58:48\\n2 hr 21 min ago\\n36.036 36.103 5 2.9 TURKEY-SYRIA BORDER REGION\\n2023-11-01 12:53:08\\n2 hr 27 min ago\\n38.080 23.480 7 2.0 GREECE\\n2023-11-01 12:51:15\\n2 hr 29 min ago\\n10.925 93.060 94 5.1 ANDAMAN ISLANDS, INDIA REGION\\n2023-11-01 12:49:31\\n2 hr 31 min ago\\n-12.400 -77.020 54 3.7 NEAR COAST OF CENTRAL PERU\\n2023-11-01 12:48:50\\n2 hr 31 min ago\\n-5.090 104.130 10 2.5 SOUTHERN SUMATRA, INDONESIA\\n2023-11-01 12:31:58\\n2 hr 48 min ago\\n38.890 23.310 10 2.0 GREECE\\n2023-11-01 12:25:13\\n2 hr 55 min ago\\n50.306 12.367 10 2.4 GERMANY\\n2023-11-01 12:22:38\\n2 hr 57 min ago\\n36.765 -3.002 11 2.2 STRAIT OF GIBRALTAR\\n2023-11-01 12:01:45\\n3 hr 18 min ago\\n37.470 22.230 194 2.6 SOUTHERN GREECE\\n2023-11-01 12:00:41\\n3 hr 19 min ago\\n11.850 -86.440 79 2.7 NEAR COAST OF NICARAGUA\\n2023-11-01 11:54:44\\n3 hr 25 min ago\\n37.466 37.274 2 2.4 CENTRAL TURKEY\\n2023-11-01 11:52:50\\n3 hr 27 min ago\\n38.775 40.173 13 2.4 EASTERN TURKEY\\n2023-11-01 11:40:41\\n3 hr 39 min ago\\n-8.970 109.890 10 3.3 JAVA, INDONESIA\\n2023-11-01 11:35:37\\n3 hr 44 min ago\\n61.345 -146.956 32 2.5 SOUTHERN ALASKA\\n2023-11-01 11:35:22\\n3 hr 45 min ago\\n-8.920 109.990 10 3.2 JAVA, INDONESIA\\n2023-11-01 11:27:11\\n3 hr 53 min ago\\n-8.030 107.370 23 3.2 JAVA, INDONESIA\\n2023-11-01 11:24:04\\n3 hr 56 min ago\\n37.059 -1.885 0 1.5 SPAIN\\n2023-11-01 11:15:01\\n4 hr 05 min ago\\n36.659 -116.267 8 2.7 NEVADA\\n2023-11-01 11:10:53\\n4 hr 09 min ago\\n38.816 -122.818 2 2.0 NORTHERN CALIFORNIA\\n2023-11-01 10:54:24\\n4 hr 26 min ago\\n18.650 -103.260 11 3.7 MICHOACAN, MEXICO\\n2023-11-01 10:47:26\\n4 hr 33 min ago\\n47.353 6.911 4 1.9 FRANCE\\n2023-11-01 10:46:13\\n4 hr 34 min ago\\n35.858 -98.049 5 2.3 OKLAHOMA\\n2023-11-01 10:40:15\\n4 hr 40 min ago\\n1.549 129.288 10 4.9 HALMAHERA, INDONESIA\\n2023-11-01 10:39:47\\n4 hr 40 min ago\\n32.110 59.730 10 4.7 EASTERN IRAN\\n2023-11-01 10:29:47\\n4 hr 50 min ago\\n19.650 -104.280 45 3.6 JALISCO, MEXICO\\n2023-11-01 10:24:52\\n4 hr 55 min ago\\n-35.756 179.285 239 3.3 OFF E. COAST OF N. ISLAND, N.Z.\\n2023-11-01 10:18:14\\n5 hr 02 min ago\\n46.305 13.600 6 1.3 SLOVENIA\\n2023-11-01 10:15:43\\n5 hr 04 min ago\\n-15.517 -177.518 410 5.1 FIJI REGION\\n2023-11-01 10:12:56\\n5 hr 07 min ago\\n17.810 -103.020 16 3.8 OFFSHORE MICHOACAN, MEXICO\\n2023-11-01 10:06:48\\n5 hr 13 min ago\\n35.364 33.441 24 1.5 CYPRUS REGION\\n2023-11-01 09:57:14\\n5 hr 23 min ago\\n17.932 -66.287 13 2.7 PUERTO RICO REGION\\n2023-11-01 09:40:30\\n5 hr 40 min ago\\n-31.770 -69.090 90 3.1 SAN JUAN, ARGENTINA\\n2023-11-01 09:40:23\\n5 hr 40 min ago\\n-2.110 120.920 10 3.3 SULAWESI, INDONESIA\\n2023-11-01 09:36:41\\n5 hr 43 min ago\\n16.950 -99.640 44 3.7 GUERRERO, MEXICO\\n2023-11-01 09:35:57\\n5 hr 44 min ago\\n34.830 24.820 20 2.8 CRETE, GREECE\\n2023-11-01 09:35:48\\n5 hr 44 min ago\\n30.500 -116.180 19 3.6 OFFSHORE BAJA CALIFORNIA, MEXICO\\n2023-11-01 09:20:50\\n5 hr 59 min ago\\n39.406 28.446 5 2.1 WESTERN TURKEY\\n2023-11-01 09:15:41\\n6 hr 04 min ago\\n25.620 -100.720 5 3.9 COAHUILA, MEXICO\\n2023-11-01 09:10:44\\n6 hr 09 min ago\\n27.667 -18.256 41 2.1 CANARY ISLANDS, SPAIN REGION\\n2023-11-01 08:55:19\\n6 hr 25 min ago\\n37.816 36.459 7 2.7 CENTRAL TURKEY\\n2023-11-01 08:44:01\\n6 hr 36 min ago\\n39.086 33.067 5 2.2 CENTRAL TURKEY\\n2023-11-01 08:42:42\\n6 hr 37 min ago\\n-41.665 174.231 12 3.1 COOK STRAIT, NEW ZEALAND\\n2023-11-01 08:41:30\\n6 hr 39 min ago\\n38.700 142.000 60 3.7 NEAR EAST COAST OF HONSHU, JAPAN\\n2023-11-01 08:38:36\\n6 hr 41 min ago\\n-31.632 178.218 33 4.4 KERMADEC ISLANDS REGION\\n2023-11-01 08:22:47\\n6 hr 57 min ago\\n38.900 22.610 77 2.0 GREECE\\n2023-11-01 08:18:25\\n7 hr 02 min ago\\n-28.770 -71.500 44 3.5 OFFSHORE ATACAMA, CHILE\\n2023-11-01 08:16:57\\n7 hr 03 min ago\\n19.241 -155.398 31 2.1 ISLAND OF HAWAII, HAWAII\\n2023-11-01 08:10:09\\n7 hr 10 min ago\\n14.640 -93.820 24 3.9 OFF COAST OF CHIAPAS, MEXICO\\n2023-11-01 08:08:47\\n7 hr 11 min ago\\n44.361 148.997 44 4.9 KURIL ISLANDS\\n2023-11-01 08:06:29\\n7 hr 14 min ago\\n15.980 -94.080 86 3.7 OFFSHORE CHIAPAS, MEXICO\\n2023-11-01 08:05:18\\n7 hr 15 min ago\\n42.855 13.224 5 2.1 CENTRAL ITALY\\n2023-11-01 07:57:07\\n7 hr 23 min ago\\n36.104 28.808 8 2.6 DODECANESE IS.-TURKEY BORDER REG\\n2023-11-01 07:57:07\\n7 hr 23 min ago\\n39.680 24.350 10 3.0 AEGEAN SEA\\n2023-11-01 07:56:39\\n7 hr 23 min ago\\n18.390 -102.700 58 3.7 MICHOACAN, MEXICO\\n2023-11-01 07:53:43\\n7 hr 26 min ago\\n36.113 35.785 7 3.1 CENTRAL TURKEY\\n2023-11-01 07:44:34\\n7 hr 36 min ago\\n38.200 22.690 5 2.1 GREECE\\n2023-11-01 07:43:45\\n7 hr 36 min ago\\n61.543 -147.799 10 3.1 SOUTHERN ALASKA\\n2023-11-01 07:38:27\\n7 hr 42 min ago\\n53.760 159.460 140 3.5 NEAR EAST COAST OF KAMCHATKA\\n2023-11-01 07:31:35\\n7 hr 49 min ago\\n0.820 122.550 20 2.5 MINAHASA, SULAWESI, INDONESIA\\n2023-11-01 07:29:26\\n7 hr 51 min ago\\n17.050 -94.180 140 3.5 OAXACA, MEXICO\\n2023-11-01 07:19:30\\n8 hr 01 min ago\\n10.931 -86.443 21 3.6 OFF COAST OF COSTA RICA\\n2023-11-01 07:11:43\\n8 hr 08 min ago\\n-32.850 -178.910 44 4.8 SOUTH OF KERMADEC ISLANDS\\n2023-11-01 07:10:03\\n8 hr 10 min ago\\n35.619 1.363 0 3.0 NORTHERN ALGERIA\\n2023-11-01 07:04:41\\n8 hr 15 min ago\\n38.892 15.674 180 2.4 SICILY, ITALY\\n2023-11-01 07:02:42\\n8 hr 17 min ago\\n38.840 23.510 5 2.1 GREECE\\n2023-11-01 06:53:03\\n8 hr 27 min ago\\n38.047 36.861 5 2.2 CENTRAL TURKEY\\n2023-11-01 06:52:57\\n8 hr 27 min ago\\n33.040 76.070 5 3.2 KASHMIR-INDIA BORDER REGION\\n2023-11-01 06:51:44\\n8 hr 28 min ago\\n-10.917 166.569 70 5.2 SANTA CRUZ ISLANDS\\n2023-11-01 06:43:30\\n8 hr 37 min ago\\n8.995 -84.027 26 3.0 OFF COAST OF COSTA RICA\\n2023-11-01 06:30:33\\n8 hr 50 min ago\\n12.620 -88.180 28 2.7 OFFSHORE EL SALVADOR\\n2023-11-01 06:29:38\\n8 hr 50 min ago\\n-10.950 166.629 74 4.6 SANTA CRUZ ISLANDS\\n2023-11-01 06:23:24\\n8 hr 57 min ago\\n18.110 -103.310 14 3.6 OFFSHORE MICHOACAN, MEXICO\\n2023-11-01 06:22:42\\n8 hr 57 min ago\\n15.280 -93.760 11 3.8 OFFSHORE CHIAPAS, MEXICO\\n2023-11-01 06:03:35\\n9 hr 17 min ago\\n46.389 12.731 8 1.0 NORTHERN ITALY\\n2023-11-01 06:03:26\\n9 hr 17 min ago\\n17.400 -94.710 136 3.8 VERACRUZ, MEXICO\\n2023-11-01 06:01:15\\n9 hr 19 min ago\\n17.640 -101.280 49 3.9 GUERRERO, MEXICO\\n2023-11-01 05:54:42\\n9 hr 25 min ago\\n18.720 -101.760 67 3.9 MICHOACAN, MEXICO'"
      ]
     },
     "execution_count": 7,
     "metadata": {},
     "output_type": "execute_result"
    }
   ],
   "source": [
    "cuerpo = tabla.find_element(By.TAG_NAME, \"tbody\")\n",
    "cuerpo.text"
   ]
  },
  {
   "cell_type": "code",
   "execution_count": 9,
   "metadata": {},
   "outputs": [],
   "source": [
    "ls = cuerpo.find_elements(By.TAG_NAME, 'tr')"
   ]
  },
  {
   "cell_type": "code",
   "execution_count": 12,
   "metadata": {},
   "outputs": [
    {
     "data": {
      "text/plain": [
       "['2023-11-01 15:14:13\\n8 min ago\\n36.891 -2.999 13 2.2 STRAIT OF GIBRALTAR',\n",
       " '2023-11-01 15:09:09\\n13 min ago\\n11.840 125.640 19 3.0 SAMAR, PHILIPPINES',\n",
       " '2023-11-01 15:03:32\\n19 min ago\\n40.528 -123.568 5 2.4 NORTHERN CALIFORNIA',\n",
       " '2023-11-01 14:49:46\\n32 min ago\\n59.976 10.946 8 3.0 SOUTHERN NORWAY',\n",
       " '2023-11-01 14:45:25\\n37 min ago\\n0.140 124.260 75 3.5 MINAHASA, SULAWESI, INDONESIA',\n",
       " '2023-11-01 14:38:02\\n44 min ago\\n36.839 -3.007 13 1.8 STRAIT OF GIBRALTAR',\n",
       " '2023-11-01 14:35:25\\n47 min ago\\n13.820 120.520 50 3.6 MINDORO, PHILIPPINES',\n",
       " '2023-11-01 14:33:41\\n48 min ago\\n37.610 21.810 5 2.5 SOUTHERN GREECE',\n",
       " '2023-11-01 14:30:21\\n52 min ago\\n19.402 -155.264 4 2.0 ISLAND OF HAWAII, HAWAII',\n",
       " '2023-11-01 14:29:27\\n53 min ago\\n37.875 36.335 3 2.1 CENTRAL TURKEY',\n",
       " '2023-11-01 14:26:30\\n56 min ago\\n-24.003 -66.809 218 3.0 JUJUY, ARGENTINA',\n",
       " '2023-11-01 14:10:58\\n1 hr 11 min ago\\n19.483 -155.489 -0 2.5 ISLAND OF HAWAII, HAWAII',\n",
       " '2023-11-01 14:09:01\\n1 hr 13 min ago\\n36.796 -3.026 9 2.2 STRAIT OF GIBRALTAR',\n",
       " '2023-11-01 14:07:48\\n1 hr 14 min ago\\n-8.333 121.545 13 5.1 FLORES REGION, INDONESIA',\n",
       " '2023-11-01 14:00:40\\n1 hr 21 min ago\\n45.943 13.823 6 1.2 SLOVENIA',\n",
       " '2023-11-01 13:57:28\\n1 hr 25 min ago\\n37.870 36.359 5 2.7 CENTRAL TURKEY',\n",
       " '2023-11-01 13:50:15\\n1 hr 32 min ago\\n45.937 10.947 6 1.1 NORTHERN ITALY',\n",
       " '2023-11-01 13:46:29\\n1 hr 36 min ago\\n39.161 20.542 4 2.0 GREECE',\n",
       " '2023-11-01 13:44:37\\n1 hr 37 min ago\\n-2.960 128.840 10 2.6 CERAM SEA, INDONESIA',\n",
       " '2023-11-01 13:43:45\\n1 hr 38 min ago\\n35.760 26.920 33 2.2 CRETE, GREECE',\n",
       " '2023-11-01 13:27:52\\n1 hr 54 min ago\\n41.439 28.428 3 2.4 WESTERN TURKEY',\n",
       " '2023-11-01 13:25:48\\n1 hr 56 min ago\\n-2.820 135.470 10 3.8 NEAR N COAST OF PAPUA, INDONESIA',\n",
       " '2023-11-01 13:22:17\\n2 hr 00 min ago\\n-20.340 -69.000 102 2.9 TARAPACA, CHILE',\n",
       " '2023-11-01 13:11:43\\n2 hr 10 min ago\\n48.640 155.950 10 4.0 KURIL ISLANDS',\n",
       " '2023-11-01 12:58:48\\n2 hr 23 min ago\\n36.036 36.103 5 2.9 TURKEY-SYRIA BORDER REGION',\n",
       " '2023-11-01 12:53:08\\n2 hr 29 min ago\\n38.080 23.480 7 2.0 GREECE',\n",
       " '2023-11-01 12:51:15\\n2 hr 31 min ago\\n10.925 93.060 94 5.1 ANDAMAN ISLANDS, INDIA REGION',\n",
       " '2023-11-01 12:49:31\\n2 hr 33 min ago\\n-12.400 -77.020 54 3.7 NEAR COAST OF CENTRAL PERU',\n",
       " '2023-11-01 12:48:50\\n2 hr 33 min ago\\n-5.090 104.130 10 2.5 SOUTHERN SUMATRA, INDONESIA',\n",
       " '2023-11-01 12:31:58\\n2 hr 50 min ago\\n38.890 23.310 10 2.0 GREECE',\n",
       " '2023-11-01 12:25:13\\n2 hr 57 min ago\\n50.306 12.367 10 2.4 GERMANY',\n",
       " '2023-11-01 12:22:38\\n2 hr 59 min ago\\n36.765 -3.002 11 2.2 STRAIT OF GIBRALTAR',\n",
       " '2023-11-01 12:01:45\\n3 hr 20 min ago\\n37.470 22.230 194 2.6 SOUTHERN GREECE',\n",
       " '2023-11-01 12:00:41\\n3 hr 21 min ago\\n11.850 -86.440 79 2.7 NEAR COAST OF NICARAGUA',\n",
       " '2023-11-01 11:54:44\\n3 hr 27 min ago\\n37.466 37.274 2 2.4 CENTRAL TURKEY',\n",
       " '2023-11-01 11:52:50\\n3 hr 29 min ago\\n38.775 40.173 13 2.4 EASTERN TURKEY',\n",
       " '2023-11-01 11:40:41\\n3 hr 41 min ago\\n-8.970 109.890 10 3.3 JAVA, INDONESIA',\n",
       " '2023-11-01 11:35:37\\n3 hr 46 min ago\\n61.345 -146.956 32 2.5 SOUTHERN ALASKA',\n",
       " '2023-11-01 11:35:22\\n3 hr 47 min ago\\n-8.920 109.990 10 3.2 JAVA, INDONESIA',\n",
       " '2023-11-01 11:27:11\\n3 hr 55 min ago\\n-8.030 107.370 23 3.2 JAVA, INDONESIA',\n",
       " '2023-11-01 11:24:04\\n3 hr 58 min ago\\n37.059 -1.885 0 1.5 SPAIN',\n",
       " '2023-11-01 11:15:01\\n4 hr 07 min ago\\n36.659 -116.267 8 2.7 NEVADA',\n",
       " '2023-11-01 11:10:53\\n4 hr 11 min ago\\n38.816 -122.818 2 2.0 NORTHERN CALIFORNIA',\n",
       " '2023-11-01 10:54:24\\n4 hr 28 min ago\\n18.650 -103.260 11 3.7 MICHOACAN, MEXICO',\n",
       " '2023-11-01 10:47:26\\n4 hr 35 min ago\\n47.353 6.911 4 1.9 FRANCE',\n",
       " '2023-11-01 10:46:13\\n4 hr 36 min ago\\n35.858 -98.049 5 2.3 OKLAHOMA',\n",
       " '2023-11-01 10:40:15\\n4 hr 42 min ago\\n1.549 129.288 10 4.9 HALMAHERA, INDONESIA',\n",
       " '2023-11-01 10:39:47\\n4 hr 42 min ago\\n32.110 59.730 10 4.7 EASTERN IRAN',\n",
       " '2023-11-01 10:29:47\\n4 hr 52 min ago\\n19.650 -104.280 45 3.6 JALISCO, MEXICO',\n",
       " '2023-11-01 10:24:52\\n4 hr 57 min ago\\n-35.756 179.285 239 3.3 OFF E. COAST OF N. ISLAND, N.Z.',\n",
       " '2023-11-01 10:18:14\\n5 hr 04 min ago\\n46.305 13.600 6 1.3 SLOVENIA',\n",
       " '2023-11-01 10:15:43\\n5 hr 06 min ago\\n-15.517 -177.518 410 5.1 FIJI REGION',\n",
       " '2023-11-01 10:12:56\\n5 hr 09 min ago\\n17.810 -103.020 16 3.8 OFFSHORE MICHOACAN, MEXICO',\n",
       " '2023-11-01 10:06:48\\n5 hr 15 min ago\\n35.364 33.441 24 1.5 CYPRUS REGION',\n",
       " '2023-11-01 09:57:14\\n5 hr 25 min ago\\n17.932 -66.287 13 2.7 PUERTO RICO REGION',\n",
       " '2023-11-01 09:40:30\\n5 hr 42 min ago\\n-31.770 -69.090 90 3.1 SAN JUAN, ARGENTINA',\n",
       " '2023-11-01 09:40:23\\n5 hr 42 min ago\\n-2.110 120.920 10 3.3 SULAWESI, INDONESIA',\n",
       " '2023-11-01 09:36:41\\n5 hr 45 min ago\\n16.950 -99.640 44 3.7 GUERRERO, MEXICO',\n",
       " '2023-11-01 09:35:57\\n5 hr 46 min ago\\n34.830 24.820 20 2.8 CRETE, GREECE',\n",
       " '2023-11-01 09:35:48\\n5 hr 46 min ago\\n30.500 -116.180 19 3.6 OFFSHORE BAJA CALIFORNIA, MEXICO',\n",
       " '2023-11-01 09:20:50\\n6 hr 01 min ago\\n39.406 28.446 5 2.1 WESTERN TURKEY',\n",
       " '2023-11-01 09:15:41\\n6 hr 06 min ago\\n25.620 -100.720 5 3.9 COAHUILA, MEXICO',\n",
       " '2023-11-01 09:10:44\\n6 hr 11 min ago\\n27.667 -18.256 41 2.1 CANARY ISLANDS, SPAIN REGION',\n",
       " '2023-11-01 08:55:19\\n6 hr 27 min ago\\n37.816 36.459 7 2.7 CENTRAL TURKEY',\n",
       " '2023-11-01 08:44:01\\n6 hr 38 min ago\\n39.086 33.067 5 2.2 CENTRAL TURKEY',\n",
       " '2023-11-01 08:42:42\\n6 hr 39 min ago\\n-41.665 174.231 12 3.1 COOK STRAIT, NEW ZEALAND',\n",
       " '2023-11-01 08:41:30\\n6 hr 41 min ago\\n38.700 142.000 60 3.7 NEAR EAST COAST OF HONSHU, JAPAN',\n",
       " '2023-11-01 08:38:36\\n6 hr 43 min ago\\n-31.632 178.218 33 4.4 KERMADEC ISLANDS REGION',\n",
       " '2023-11-01 08:22:47\\n6 hr 59 min ago\\n38.900 22.610 77 2.0 GREECE',\n",
       " '2023-11-01 08:18:25\\n7 hr 04 min ago\\n-28.770 -71.500 44 3.5 OFFSHORE ATACAMA, CHILE',\n",
       " '2023-11-01 08:16:57\\n7 hr 05 min ago\\n19.241 -155.398 31 2.1 ISLAND OF HAWAII, HAWAII',\n",
       " '2023-11-01 08:10:09\\n7 hr 12 min ago\\n14.640 -93.820 24 3.9 OFF COAST OF CHIAPAS, MEXICO',\n",
       " '2023-11-01 08:08:47\\n7 hr 13 min ago\\n44.361 148.997 44 4.9 KURIL ISLANDS',\n",
       " '2023-11-01 08:06:29\\n7 hr 16 min ago\\n15.980 -94.080 86 3.7 OFFSHORE CHIAPAS, MEXICO',\n",
       " '2023-11-01 08:05:18\\n7 hr 17 min ago\\n42.855 13.224 5 2.1 CENTRAL ITALY',\n",
       " '2023-11-01 07:57:07\\n7 hr 25 min ago\\n36.104 28.808 8 2.6 DODECANESE IS.-TURKEY BORDER REG',\n",
       " '2023-11-01 07:57:07\\n7 hr 25 min ago\\n39.680 24.350 10 3.0 AEGEAN SEA',\n",
       " '2023-11-01 07:56:39\\n7 hr 25 min ago\\n18.390 -102.700 58 3.7 MICHOACAN, MEXICO',\n",
       " '2023-11-01 07:53:43\\n7 hr 28 min ago\\n36.113 35.785 7 3.1 CENTRAL TURKEY',\n",
       " '2023-11-01 07:44:34\\n7 hr 38 min ago\\n38.200 22.690 5 2.1 GREECE',\n",
       " '2023-11-01 07:43:45\\n7 hr 38 min ago\\n61.543 -147.799 10 3.1 SOUTHERN ALASKA',\n",
       " '2023-11-01 07:38:27\\n7 hr 44 min ago\\n53.760 159.460 140 3.5 NEAR EAST COAST OF KAMCHATKA',\n",
       " '2023-11-01 07:31:35\\n7 hr 51 min ago\\n0.820 122.550 20 2.5 MINAHASA, SULAWESI, INDONESIA',\n",
       " '2023-11-01 07:29:26\\n7 hr 53 min ago\\n17.050 -94.180 140 3.5 OAXACA, MEXICO',\n",
       " '2023-11-01 07:19:30\\n8 hr 03 min ago\\n10.931 -86.443 21 3.6 OFF COAST OF COSTA RICA',\n",
       " '2023-11-01 07:11:43\\n8 hr 10 min ago\\n-32.850 -178.910 44 4.8 SOUTH OF KERMADEC ISLANDS',\n",
       " '2023-11-01 07:10:03\\n8 hr 12 min ago\\n35.619 1.363 0 3.0 NORTHERN ALGERIA',\n",
       " '2023-11-01 07:04:41\\n8 hr 17 min ago\\n38.892 15.674 180 2.4 SICILY, ITALY',\n",
       " '2023-11-01 07:02:42\\n8 hr 19 min ago\\n38.840 23.510 5 2.1 GREECE',\n",
       " '2023-11-01 06:53:03\\n8 hr 29 min ago\\n38.047 36.861 5 2.2 CENTRAL TURKEY',\n",
       " '2023-11-01 06:52:57\\n8 hr 29 min ago\\n33.040 76.070 5 3.2 KASHMIR-INDIA BORDER REGION',\n",
       " '2023-11-01 06:51:44\\n8 hr 30 min ago\\n-10.917 166.569 70 5.2 SANTA CRUZ ISLANDS',\n",
       " '2023-11-01 06:43:30\\n8 hr 39 min ago\\n8.995 -84.027 26 3.0 OFF COAST OF COSTA RICA',\n",
       " '2023-11-01 06:30:33\\n8 hr 52 min ago\\n12.620 -88.180 28 2.7 OFFSHORE EL SALVADOR',\n",
       " '2023-11-01 06:29:38\\n8 hr 52 min ago\\n-10.950 166.629 74 4.6 SANTA CRUZ ISLANDS',\n",
       " '2023-11-01 06:23:24\\n8 hr 59 min ago\\n18.110 -103.310 14 3.6 OFFSHORE MICHOACAN, MEXICO',\n",
       " '2023-11-01 06:22:42\\n8 hr 59 min ago\\n15.280 -93.760 11 3.8 OFFSHORE CHIAPAS, MEXICO',\n",
       " '2023-11-01 06:03:35\\n9 hr 19 min ago\\n46.389 12.731 8 1.0 NORTHERN ITALY',\n",
       " '2023-11-01 06:03:26\\n9 hr 19 min ago\\n17.400 -94.710 136 3.8 VERACRUZ, MEXICO',\n",
       " '2023-11-01 06:01:15\\n9 hr 21 min ago\\n17.640 -101.280 49 3.9 GUERRERO, MEXICO',\n",
       " '2023-11-01 05:54:42\\n9 hr 27 min ago\\n18.720 -101.760 67 3.9 MICHOACAN, MEXICO']"
      ]
     },
     "execution_count": 12,
     "metadata": {},
     "output_type": "execute_result"
    }
   ],
   "source": [
    "filas=[]\n",
    "for e in ls:\n",
    "    filas.append(e.text)\n",
    "filas"
   ]
  },
  {
   "cell_type": "code",
   "execution_count": 15,
   "metadata": {},
   "outputs": [],
   "source": [
    "#pd.DataFrame(filas, columns=columnas2)"
   ]
  },
  {
   "cell_type": "markdown",
   "metadata": {},
   "source": [
    "#### Count number of tweets by a given Twitter account."
   ]
  },
  {
   "cell_type": "markdown",
   "metadata": {},
   "source": [
    "You will need to include a ***try/except block*** for account names not found. \n",
    "<br>***Hint:*** the program should count the number of tweets for any provided account"
   ]
  },
  {
   "cell_type": "code",
   "execution_count": null,
   "metadata": {},
   "outputs": [],
   "source": [
    "# This is the url you will scrape in this exercise \n",
    "# You will need to add the account credentials to this url\n",
    "url = 'https://twitter.com/'"
   ]
  },
  {
   "cell_type": "code",
   "execution_count": null,
   "metadata": {},
   "outputs": [],
   "source": [
    "#your code"
   ]
  },
  {
   "cell_type": "markdown",
   "metadata": {},
   "source": [
    "#### Number of followers of a given twitter account"
   ]
  },
  {
   "cell_type": "markdown",
   "metadata": {},
   "source": [
    "You will need to include a ***try/except block*** in case account/s name not found. \n",
    "<br>***Hint:*** the program should count the followers for any provided account"
   ]
  },
  {
   "cell_type": "code",
   "execution_count": null,
   "metadata": {},
   "outputs": [],
   "source": [
    "# This is the url you will scrape in this exercise \n",
    "# You will need to add the account credentials to this url\n",
    "url = 'https://twitter.com/'"
   ]
  },
  {
   "cell_type": "code",
   "execution_count": null,
   "metadata": {},
   "outputs": [],
   "source": [
    "#your code"
   ]
  },
  {
   "cell_type": "markdown",
   "metadata": {},
   "source": [
    "#### List all language names and number of related articles in the order they appear in wikipedia.org"
   ]
  },
  {
   "cell_type": "code",
   "execution_count": 16,
   "metadata": {},
   "outputs": [],
   "source": [
    "# This is the url you will scrape in this exercise\n",
    "url = 'https://www.wikipedia.org/'"
   ]
  },
  {
   "cell_type": "code",
   "execution_count": 17,
   "metadata": {},
   "outputs": [],
   "source": [
    "driver.get(url)"
   ]
  },
  {
   "cell_type": "code",
   "execution_count": 46,
   "metadata": {},
   "outputs": [],
   "source": [
    "language = driver.find_elements(By.TAG_NAME,'strong')[1:11]\n",
    "number = driver.find_elements(By.TAG_NAME,'small')[0:10]\n",
    "# Extrae los nombres de los idiomas y guárdalos en una lista\n",
    "languages = [element.text.strip() for element in language]\n",
    "numbers = [element.text.strip() for element in number]"
   ]
  },
  {
   "cell_type": "code",
   "execution_count": 49,
   "metadata": {},
   "outputs": [
    {
     "data": {
      "text/plain": [
       "[('Español', '1 892 000+ artículos'),\n",
       " ('English', '6 715 000+ articles'),\n",
       " ('日本語', '1 387 000+ 記事'),\n",
       " ('Русский', '1 938 000+ статей'),\n",
       " ('Deutsch', '2 836 000+ Artikel'),\n",
       " ('Français', '2 553 000+ articles'),\n",
       " ('Italiano', '1 826 000+ voci'),\n",
       " ('中文', '1 377 000+ 条目 / 條目'),\n",
       " ('Português', '1 109 000+ artigos'),\n",
       " ('العربية', '1 217 000+ مقالة')]"
      ]
     },
     "execution_count": 49,
     "metadata": {},
     "output_type": "execute_result"
    }
   ],
   "source": [
    "list(zip(languages, numbers))"
   ]
  },
  {
   "cell_type": "markdown",
   "metadata": {},
   "source": [
    "#### A list with the different kind of datasets available in data.gov.uk "
   ]
  },
  {
   "cell_type": "code",
   "execution_count": 50,
   "metadata": {},
   "outputs": [],
   "source": [
    "# This is the url you will scrape in this exercise\n",
    "url = 'https://data.gov.uk/'"
   ]
  },
  {
   "cell_type": "code",
   "execution_count": 51,
   "metadata": {},
   "outputs": [],
   "source": [
    "driver.get(url)"
   ]
  },
  {
   "cell_type": "code",
   "execution_count": 61,
   "metadata": {},
   "outputs": [
    {
     "data": {
      "text/plain": [
       "['Business and economy',\n",
       " 'Crime and justice',\n",
       " 'Defence',\n",
       " 'Education',\n",
       " 'Environment',\n",
       " 'Government',\n",
       " 'Government spending',\n",
       " 'Health',\n",
       " 'Mapping',\n",
       " 'Society',\n",
       " 'Towns and cities',\n",
       " 'Transport',\n",
       " 'Digital service performance',\n",
       " 'Government reference data']"
      ]
     },
     "execution_count": 61,
     "metadata": {},
     "output_type": "execute_result"
    }
   ],
   "source": [
    "x = driver.find_elements(By.CSS_SELECTOR,  'h3 > a')\n",
    "datasets = [e.text for e in x]\n",
    "datasets"
   ]
  },
  {
   "cell_type": "markdown",
   "metadata": {},
   "source": [
    "#### Top 10 languages by number of native speakers stored in a Pandas Dataframe"
   ]
  },
  {
   "cell_type": "code",
   "execution_count": null,
   "metadata": {},
   "outputs": [],
   "source": [
    "# This is the url you will scrape in this exercise\n",
    "url = 'https://en.wikipedia.org/wiki/List_of_languages_by_number_of_native_speakers'"
   ]
  },
  {
   "cell_type": "code",
   "execution_count": null,
   "metadata": {},
   "outputs": [],
   "source": [
    "#your code"
   ]
  },
  {
   "cell_type": "markdown",
   "metadata": {},
   "source": [
    "### BONUS QUESTIONS"
   ]
  },
  {
   "cell_type": "markdown",
   "metadata": {},
   "source": [
    "#### Scrape a certain number of tweets of a given Twitter account."
   ]
  },
  {
   "cell_type": "code",
   "execution_count": null,
   "metadata": {},
   "outputs": [],
   "source": [
    "# This is the url you will scrape in this exercise \n",
    "# You will need to add the account credentials to this url\n",
    "url = 'https://twitter.com/'"
   ]
  },
  {
   "cell_type": "code",
   "execution_count": null,
   "metadata": {},
   "outputs": [],
   "source": [
    "# your code"
   ]
  },
  {
   "cell_type": "markdown",
   "metadata": {},
   "source": [
    "#### IMDB's Top 250 data (movie name, Initial release, director name and stars) as a pandas dataframe"
   ]
  },
  {
   "cell_type": "code",
   "execution_count": null,
   "metadata": {},
   "outputs": [],
   "source": [
    "# This is the url you will scrape in this exercise \n",
    "url = 'https://www.imdb.com/chart/top'"
   ]
  },
  {
   "cell_type": "code",
   "execution_count": null,
   "metadata": {},
   "outputs": [],
   "source": [
    "# your code"
   ]
  },
  {
   "cell_type": "markdown",
   "metadata": {},
   "source": [
    "#### Movie name, year and a brief summary of the top 10 random movies (IMDB) as a pandas dataframe."
   ]
  },
  {
   "cell_type": "code",
   "execution_count": null,
   "metadata": {},
   "outputs": [],
   "source": [
    "#This is the url you will scrape in this exercise\n",
    "url = 'http://www.imdb.com/chart/top'"
   ]
  },
  {
   "cell_type": "code",
   "execution_count": null,
   "metadata": {},
   "outputs": [],
   "source": [
    "#your code"
   ]
  },
  {
   "cell_type": "markdown",
   "metadata": {},
   "source": [
    "#### Find the live weather report (temperature, wind speed, description and weather) of a given city."
   ]
  },
  {
   "cell_type": "code",
   "execution_count": null,
   "metadata": {},
   "outputs": [],
   "source": [
    "#https://openweathermap.org/current\n",
    "city = city=input('Enter the city:')\n",
    "url = 'http://api.openweathermap.org/data/2.5/weather?'+'q='+city+'&APPID=b35975e18dc93725acb092f7272cc6b8&units=metric'"
   ]
  },
  {
   "cell_type": "code",
   "execution_count": null,
   "metadata": {},
   "outputs": [],
   "source": [
    "# your code"
   ]
  },
  {
   "cell_type": "markdown",
   "metadata": {},
   "source": [
    "#### Book name,price and stock availability as a pandas dataframe."
   ]
  },
  {
   "cell_type": "code",
   "execution_count": null,
   "metadata": {},
   "outputs": [],
   "source": [
    "# This is the url you will scrape in this exercise. \n",
    "# It is a fictional bookstore created to be scraped. \n",
    "url = 'http://books.toscrape.com/'"
   ]
  },
  {
   "cell_type": "code",
   "execution_count": null,
   "metadata": {},
   "outputs": [],
   "source": [
    "#your code"
   ]
  }
 ],
 "metadata": {
  "kernelspec": {
   "display_name": "Python 3 (ipykernel)",
   "language": "python",
   "name": "python3"
  },
  "language_info": {
   "codemirror_mode": {
    "name": "ipython",
    "version": 3
   },
   "file_extension": ".py",
   "mimetype": "text/x-python",
   "name": "python",
   "nbconvert_exporter": "python",
   "pygments_lexer": "ipython3",
   "version": "3.11.4"
  }
 },
 "nbformat": 4,
 "nbformat_minor": 2
}
